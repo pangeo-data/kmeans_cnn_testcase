{
 "cells": [
  {
   "cell_type": "markdown",
   "id": "60d3e391-ffb1-48c9-9886-f4aebbe2b88c",
   "metadata": {},
   "source": [
    "## Test case to re-identify the clusters using CNN (model based on [AlexNet](https://en.wikipedia.org/wiki/AlexNet))\n",
    "- using **CNN2** model (implemented here) \n",
    "- using **CNN4** model"
   ]
  },
  {
   "cell_type": "code",
   "execution_count": 1,
   "id": "6727ab10-4da6-4e9f-89f5-a6c780ea305e",
   "metadata": {},
   "outputs": [
    {
     "name": "stderr",
     "output_type": "stream",
     "text": [
      "/srv/conda/envs/notebook/lib/python3.9/site-packages/distributed/node.py:160: UserWarning: Port 8787 is already in use.\n",
      "Perhaps you already have a cluster running?\n",
      "Hosting the HTTP server on port 33971 instead\n",
      "  warnings.warn(\n"
     ]
    },
    {
     "data": {
      "text/html": [
       "<div>\n",
       "    <div style=\"width: 24px; height: 24px; background-color: #e1e1e1; border: 3px solid #9D9D9D; border-radius: 5px; position: absolute;\"> </div>\n",
       "    <div style=\"margin-left: 48px;\">\n",
       "        <h3 style=\"margin-bottom: 0px;\">Client</h3>\n",
       "        <p style=\"color: #9D9D9D; margin-bottom: 0px;\">Client-aebe040b-5b32-11ec-84e1-717d350a5a41</p>\n",
       "        <table style=\"width: 100%; text-align: left;\">\n",
       "\n",
       "        <tr>\n",
       "        \n",
       "            <td style=\"text-align: left;\"><strong>Connection method:</strong> Cluster object</td>\n",
       "            <td style=\"text-align: left;\"><strong>Cluster type:</strong> distributed.LocalCluster</td>\n",
       "        \n",
       "        </tr>\n",
       "\n",
       "        \n",
       "            <tr>\n",
       "                <td style=\"text-align: left;\">\n",
       "                    <strong>Dashboard: </strong> <a href=\"http://127.0.0.1:33971/status\" target=\"_blank\">http://127.0.0.1:33971/status</a>\n",
       "                </td>\n",
       "                <td style=\"text-align: left;\"></td>\n",
       "            </tr>\n",
       "        \n",
       "\n",
       "        </table>\n",
       "\n",
       "        \n",
       "            <details>\n",
       "            <summary style=\"margin-bottom: 20px;\"><h3 style=\"display: inline;\">Cluster Info</h3></summary>\n",
       "            <div class=\"jp-RenderedHTMLCommon jp-RenderedHTML jp-mod-trusted jp-OutputArea-output\">\n",
       "    <div style=\"width: 24px; height: 24px; background-color: #e1e1e1; border: 3px solid #9D9D9D; border-radius: 5px; position: absolute;\">\n",
       "    </div>\n",
       "    <div style=\"margin-left: 48px;\">\n",
       "        <h3 style=\"margin-bottom: 0px; margin-top: 0px;\">LocalCluster</h3>\n",
       "        <p style=\"color: #9D9D9D; margin-bottom: 0px;\">da5f9ee7</p>\n",
       "        <table style=\"width: 100%; text-align: left;\">\n",
       "            <tr>\n",
       "                <td style=\"text-align: left;\">\n",
       "                    <strong>Dashboard:</strong> <a href=\"http://127.0.0.1:33971/status\" target=\"_blank\">http://127.0.0.1:33971/status</a>\n",
       "                </td>\n",
       "                <td style=\"text-align: left;\">\n",
       "                    <strong>Workers:</strong> 4\n",
       "                </td>\n",
       "            </tr>\n",
       "            <tr>\n",
       "                <td style=\"text-align: left;\">\n",
       "                    <strong>Total threads:</strong> 4\n",
       "                </td>\n",
       "                <td style=\"text-align: left;\">\n",
       "                    <strong>Total memory:</strong> 29.94 GiB\n",
       "                </td>\n",
       "            </tr>\n",
       "            \n",
       "            <tr>\n",
       "    <td style=\"text-align: left;\"><strong>Status:</strong> running</td>\n",
       "    <td style=\"text-align: left;\"><strong>Using processes:</strong> True</td>\n",
       "</tr>\n",
       "\n",
       "            \n",
       "        </table>\n",
       "\n",
       "        <details>\n",
       "            <summary style=\"margin-bottom: 20px;\">\n",
       "                <h3 style=\"display: inline;\">Scheduler Info</h3>\n",
       "            </summary>\n",
       "\n",
       "            <div style=\"\">\n",
       "    <div>\n",
       "        <div style=\"width: 24px; height: 24px; background-color: #FFF7E5; border: 3px solid #FF6132; border-radius: 5px; position: absolute;\"> </div>\n",
       "        <div style=\"margin-left: 48px;\">\n",
       "            <h3 style=\"margin-bottom: 0px;\">Scheduler</h3>\n",
       "            <p style=\"color: #9D9D9D; margin-bottom: 0px;\">Scheduler-47caa6be-abc6-495f-ac29-74a89a5bef51</p>\n",
       "            <table style=\"width: 100%; text-align: left;\">\n",
       "                <tr>\n",
       "                    <td style=\"text-align: left;\">\n",
       "                        <strong>Comm:</strong> tcp://127.0.0.1:34125\n",
       "                    </td>\n",
       "                    <td style=\"text-align: left;\">\n",
       "                        <strong>Workers:</strong> 4\n",
       "                    </td>\n",
       "                </tr>\n",
       "                <tr>\n",
       "                    <td style=\"text-align: left;\">\n",
       "                        <strong>Dashboard:</strong> <a href=\"http://127.0.0.1:33971/status\" target=\"_blank\">http://127.0.0.1:33971/status</a>\n",
       "                    </td>\n",
       "                    <td style=\"text-align: left;\">\n",
       "                        <strong>Total threads:</strong> 4\n",
       "                    </td>\n",
       "                </tr>\n",
       "                <tr>\n",
       "                    <td style=\"text-align: left;\">\n",
       "                        <strong>Started:</strong> Just now\n",
       "                    </td>\n",
       "                    <td style=\"text-align: left;\">\n",
       "                        <strong>Total memory:</strong> 29.94 GiB\n",
       "                    </td>\n",
       "                </tr>\n",
       "            </table>\n",
       "        </div>\n",
       "    </div>\n",
       "\n",
       "    <details style=\"margin-left: 48px;\">\n",
       "        <summary style=\"margin-bottom: 20px;\">\n",
       "            <h3 style=\"display: inline;\">Workers</h3>\n",
       "        </summary>\n",
       "\n",
       "        \n",
       "        <div style=\"margin-bottom: 20px;\">\n",
       "            <div style=\"width: 24px; height: 24px; background-color: #DBF5FF; border: 3px solid #4CC9FF; border-radius: 5px; position: absolute;\"> </div>\n",
       "            <div style=\"margin-left: 48px;\">\n",
       "            <details>\n",
       "                <summary>\n",
       "                    <h4 style=\"margin-bottom: 0px; display: inline;\">Worker: 0</h4>\n",
       "                </summary>\n",
       "                <table style=\"width: 100%; text-align: left;\">\n",
       "                    <tr>\n",
       "                        <td style=\"text-align: left;\">\n",
       "                            <strong>Comm: </strong> tcp://127.0.0.1:43291\n",
       "                        </td>\n",
       "                        <td style=\"text-align: left;\">\n",
       "                            <strong>Total threads: </strong> 1\n",
       "                        </td>\n",
       "                    </tr>\n",
       "                    <tr>\n",
       "                        <td style=\"text-align: left;\">\n",
       "                            <strong>Dashboard: </strong> <a href=\"http://127.0.0.1:33615/status\" target=\"_blank\">http://127.0.0.1:33615/status</a>\n",
       "                        </td>\n",
       "                        <td style=\"text-align: left;\">\n",
       "                            <strong>Memory: </strong> 7.48 GiB\n",
       "                        </td>\n",
       "                    </tr>\n",
       "                    <tr>\n",
       "                        <td style=\"text-align: left;\">\n",
       "                            <strong>Nanny: </strong> tcp://127.0.0.1:36687\n",
       "                        </td>\n",
       "                        <td style=\"text-align: left;\"></td>\n",
       "                    </tr>\n",
       "                    <tr>\n",
       "                        <td colspan=\"2\" style=\"text-align: left;\">\n",
       "                            <strong>Local directory: </strong> /home/jovyan/dask-worker-space/worker-lqjpc_bv\n",
       "                        </td>\n",
       "                    </tr>\n",
       "\n",
       "                    \n",
       "\n",
       "                    \n",
       "\n",
       "                </table>\n",
       "            </details>\n",
       "            </div>\n",
       "        </div>\n",
       "        \n",
       "        <div style=\"margin-bottom: 20px;\">\n",
       "            <div style=\"width: 24px; height: 24px; background-color: #DBF5FF; border: 3px solid #4CC9FF; border-radius: 5px; position: absolute;\"> </div>\n",
       "            <div style=\"margin-left: 48px;\">\n",
       "            <details>\n",
       "                <summary>\n",
       "                    <h4 style=\"margin-bottom: 0px; display: inline;\">Worker: 1</h4>\n",
       "                </summary>\n",
       "                <table style=\"width: 100%; text-align: left;\">\n",
       "                    <tr>\n",
       "                        <td style=\"text-align: left;\">\n",
       "                            <strong>Comm: </strong> tcp://127.0.0.1:43109\n",
       "                        </td>\n",
       "                        <td style=\"text-align: left;\">\n",
       "                            <strong>Total threads: </strong> 1\n",
       "                        </td>\n",
       "                    </tr>\n",
       "                    <tr>\n",
       "                        <td style=\"text-align: left;\">\n",
       "                            <strong>Dashboard: </strong> <a href=\"http://127.0.0.1:42609/status\" target=\"_blank\">http://127.0.0.1:42609/status</a>\n",
       "                        </td>\n",
       "                        <td style=\"text-align: left;\">\n",
       "                            <strong>Memory: </strong> 7.48 GiB\n",
       "                        </td>\n",
       "                    </tr>\n",
       "                    <tr>\n",
       "                        <td style=\"text-align: left;\">\n",
       "                            <strong>Nanny: </strong> tcp://127.0.0.1:33451\n",
       "                        </td>\n",
       "                        <td style=\"text-align: left;\"></td>\n",
       "                    </tr>\n",
       "                    <tr>\n",
       "                        <td colspan=\"2\" style=\"text-align: left;\">\n",
       "                            <strong>Local directory: </strong> /home/jovyan/dask-worker-space/worker-fdqrsymn\n",
       "                        </td>\n",
       "                    </tr>\n",
       "\n",
       "                    \n",
       "\n",
       "                    \n",
       "\n",
       "                </table>\n",
       "            </details>\n",
       "            </div>\n",
       "        </div>\n",
       "        \n",
       "        <div style=\"margin-bottom: 20px;\">\n",
       "            <div style=\"width: 24px; height: 24px; background-color: #DBF5FF; border: 3px solid #4CC9FF; border-radius: 5px; position: absolute;\"> </div>\n",
       "            <div style=\"margin-left: 48px;\">\n",
       "            <details>\n",
       "                <summary>\n",
       "                    <h4 style=\"margin-bottom: 0px; display: inline;\">Worker: 2</h4>\n",
       "                </summary>\n",
       "                <table style=\"width: 100%; text-align: left;\">\n",
       "                    <tr>\n",
       "                        <td style=\"text-align: left;\">\n",
       "                            <strong>Comm: </strong> tcp://127.0.0.1:38217\n",
       "                        </td>\n",
       "                        <td style=\"text-align: left;\">\n",
       "                            <strong>Total threads: </strong> 1\n",
       "                        </td>\n",
       "                    </tr>\n",
       "                    <tr>\n",
       "                        <td style=\"text-align: left;\">\n",
       "                            <strong>Dashboard: </strong> <a href=\"http://127.0.0.1:42275/status\" target=\"_blank\">http://127.0.0.1:42275/status</a>\n",
       "                        </td>\n",
       "                        <td style=\"text-align: left;\">\n",
       "                            <strong>Memory: </strong> 7.48 GiB\n",
       "                        </td>\n",
       "                    </tr>\n",
       "                    <tr>\n",
       "                        <td style=\"text-align: left;\">\n",
       "                            <strong>Nanny: </strong> tcp://127.0.0.1:39555\n",
       "                        </td>\n",
       "                        <td style=\"text-align: left;\"></td>\n",
       "                    </tr>\n",
       "                    <tr>\n",
       "                        <td colspan=\"2\" style=\"text-align: left;\">\n",
       "                            <strong>Local directory: </strong> /home/jovyan/dask-worker-space/worker-wex4kw0a\n",
       "                        </td>\n",
       "                    </tr>\n",
       "\n",
       "                    \n",
       "\n",
       "                    \n",
       "\n",
       "                </table>\n",
       "            </details>\n",
       "            </div>\n",
       "        </div>\n",
       "        \n",
       "        <div style=\"margin-bottom: 20px;\">\n",
       "            <div style=\"width: 24px; height: 24px; background-color: #DBF5FF; border: 3px solid #4CC9FF; border-radius: 5px; position: absolute;\"> </div>\n",
       "            <div style=\"margin-left: 48px;\">\n",
       "            <details>\n",
       "                <summary>\n",
       "                    <h4 style=\"margin-bottom: 0px; display: inline;\">Worker: 3</h4>\n",
       "                </summary>\n",
       "                <table style=\"width: 100%; text-align: left;\">\n",
       "                    <tr>\n",
       "                        <td style=\"text-align: left;\">\n",
       "                            <strong>Comm: </strong> tcp://127.0.0.1:33269\n",
       "                        </td>\n",
       "                        <td style=\"text-align: left;\">\n",
       "                            <strong>Total threads: </strong> 1\n",
       "                        </td>\n",
       "                    </tr>\n",
       "                    <tr>\n",
       "                        <td style=\"text-align: left;\">\n",
       "                            <strong>Dashboard: </strong> <a href=\"http://127.0.0.1:44875/status\" target=\"_blank\">http://127.0.0.1:44875/status</a>\n",
       "                        </td>\n",
       "                        <td style=\"text-align: left;\">\n",
       "                            <strong>Memory: </strong> 7.48 GiB\n",
       "                        </td>\n",
       "                    </tr>\n",
       "                    <tr>\n",
       "                        <td style=\"text-align: left;\">\n",
       "                            <strong>Nanny: </strong> tcp://127.0.0.1:34329\n",
       "                        </td>\n",
       "                        <td style=\"text-align: left;\"></td>\n",
       "                    </tr>\n",
       "                    <tr>\n",
       "                        <td colspan=\"2\" style=\"text-align: left;\">\n",
       "                            <strong>Local directory: </strong> /home/jovyan/dask-worker-space/worker-8xuz2tov\n",
       "                        </td>\n",
       "                    </tr>\n",
       "\n",
       "                    \n",
       "\n",
       "                    \n",
       "\n",
       "                </table>\n",
       "            </details>\n",
       "            </div>\n",
       "        </div>\n",
       "        \n",
       "\n",
       "    </details>\n",
       "</div>\n",
       "\n",
       "        </details>\n",
       "    </div>\n",
       "</div>\n",
       "            </details>\n",
       "        \n",
       "\n",
       "    </div>\n",
       "</div>"
      ],
      "text/plain": [
       "<Client: 'tcp://127.0.0.1:34125' processes=4 threads=4, memory=29.94 GiB>"
      ]
     },
     "execution_count": 1,
     "metadata": {},
     "output_type": "execute_result"
    }
   ],
   "source": [
    "#create dask cluster\n",
    "from dask.distributed import Client, LocalCluster\n",
    "cluster = LocalCluster()\n",
    "client = Client(cluster)\n",
    "client"
   ]
  },
  {
   "cell_type": "code",
   "execution_count": 2,
   "id": "2dcd9c84-d709-4353-8956-b2e99be17298",
   "metadata": {
    "tags": []
   },
   "outputs": [],
   "source": [
    "import os\n",
    "import PIL\n",
    "from PIL import Image\n",
    "import glob\n",
    "import tensorflow as tf\n",
    "from tensorflow import keras\n",
    "from tensorflow.keras import layers\n",
    "from tensorflow.keras import regularizers\n",
    "from tensorflow.keras import optimizers\n",
    "import matplotlib.pyplot as plt\n",
    "import numpy as np\n",
    "import time\n",
    "%matplotlib inline"
   ]
  },
  {
   "cell_type": "markdown",
   "id": "e9abe6fe-14cb-4e1e-b567-9845f5cbf18f",
   "metadata": {
    "tags": []
   },
   "source": [
    "### The 378 x 248 x 3 (RGB) sized contour plot image is downsampled to size 28 x 28 x 3 using bicubic interpolation"
   ]
  },
  {
   "cell_type": "code",
   "execution_count": 6,
   "id": "52b5ba27-8067-48e3-899e-1be9885ad76e",
   "metadata": {},
   "outputs": [],
   "source": [
    "#clear previous model\n",
    "keras.backend.clear_session()"
   ]
  },
  {
   "cell_type": "code",
   "execution_count": 7,
   "id": "3ab04ab0-1c7e-47e1-b03c-4bc86821569e",
   "metadata": {},
   "outputs": [
    {
     "data": {
      "text/plain": [
       "<tensorflow.python.keras.engine.sequential.Sequential at 0x7f9012781df0>"
      ]
     },
     "execution_count": 7,
     "metadata": {},
     "output_type": "execute_result"
    }
   ],
   "source": [
    "#CNN2 based on alexnet\n",
    "# 2 Convolution layers with 'relu' activation, 16 and 32 filters each with kernel size 5\n",
    "# 2 MaxPooling layers with kernel size 2\n",
    "# one dense layer \n",
    "# output layer has 4 neurons (4 classes)\n",
    "\n",
    "\n",
    "n_classes  = 4\n",
    "drop_p = 0.5\n",
    "lambda_val = 0.02\n",
    "\n",
    "cnn2_model = tf.keras.Sequential([\n",
    "  layers.experimental.preprocessing.Normalization(mean = 0,variance = 1), #normalization\n",
    "  layers.Conv2D(16, 5, activation='relu',padding ='same',activity_regularizer= regularizers.L2(lambda_val)),\n",
    "  layers.MaxPooling2D(strides=1),\n",
    "  layers.Conv2D(32, 5, activation='relu',padding ='same',activity_regularizer= regularizers.L2(lambda_val)),\n",
    "  layers.MaxPooling2D(strides=1),\n",
    "  layers.Flatten(),\n",
    "  layers.Dense(1024, activation='relu',activity_regularizer= regularizers.L2(lambda_val)),\n",
    "  layers.Dropout(drop_p),\n",
    "  layers.Dense(n_classes,activation='softmax')\n",
    "])\n",
    "\n",
    "cnn2_model"
   ]
  },
  {
   "cell_type": "code",
   "execution_count": 8,
   "id": "6f16cac3-e660-4a61-b599-7341cc467997",
   "metadata": {},
   "outputs": [],
   "source": [
    "learn_rate = 0.005\n",
    "opt = tf.keras.optimizers.Adam(learning_rate=learn_rate)\n",
    "\n",
    "cnn2_model.compile(\n",
    "  optimizer=opt,\n",
    "  loss=tf.losses.SparseCategoricalCrossentropy(from_logits=False),\n",
    "  metrics=['accuracy'])"
   ]
  },
  {
   "cell_type": "code",
   "execution_count": 9,
   "id": "28772ca1-4f8e-46d5-a1b6-a71842081d7a",
   "metadata": {},
   "outputs": [
    {
     "name": "stdout",
     "output_type": "stream",
     "text": [
      "Epoch 1/15\n",
      "26/26 [==============================] - 9s 276ms/step - loss: 123086.5260 - accuracy: 0.2432 - val_loss: 1.3811 - val_accuracy: 0.2177\n",
      "Epoch 2/15\n",
      "26/26 [==============================] - 7s 248ms/step - loss: 1.3755 - accuracy: 0.2864 - val_loss: 1.3800 - val_accuracy: 0.2177\n",
      "Epoch 3/15\n",
      "26/26 [==============================] - 7s 251ms/step - loss: 1.3763 - accuracy: 0.2669 - val_loss: 1.3784 - val_accuracy: 0.2177\n",
      "Epoch 4/15\n",
      "26/26 [==============================] - 7s 246ms/step - loss: 1.3652 - accuracy: 0.2455 - val_loss: 1.3787 - val_accuracy: 0.2177\n",
      "Epoch 5/15\n",
      "26/26 [==============================] - 7s 248ms/step - loss: 1.3688 - accuracy: 0.2921 - val_loss: 1.3819 - val_accuracy: 0.2177\n",
      "Epoch 6/15\n",
      "26/26 [==============================] - 7s 248ms/step - loss: 1.3709 - accuracy: 0.3017 - val_loss: 1.3807 - val_accuracy: 0.2177\n",
      "Epoch 7/15\n",
      "26/26 [==============================] - 7s 251ms/step - loss: 1.3672 - accuracy: 0.2784 - val_loss: 1.3801 - val_accuracy: 0.2177\n",
      "Epoch 8/15\n",
      "26/26 [==============================] - 7s 246ms/step - loss: 1.3664 - accuracy: 0.2944 - val_loss: 1.3805 - val_accuracy: 0.2177\n",
      "Epoch 9/15\n",
      "26/26 [==============================] - 7s 247ms/step - loss: 1.3621 - accuracy: 0.3033 - val_loss: 1.3809 - val_accuracy: 0.2177\n",
      "Epoch 10/15\n",
      "26/26 [==============================] - 7s 248ms/step - loss: 1.3715 - accuracy: 0.2951 - val_loss: 1.3784 - val_accuracy: 0.2177\n",
      "Epoch 11/15\n",
      "26/26 [==============================] - 7s 246ms/step - loss: 1.3690 - accuracy: 0.2716 - val_loss: 1.3804 - val_accuracy: 0.2177\n",
      "Epoch 12/15\n",
      "26/26 [==============================] - 7s 252ms/step - loss: 1.3683 - accuracy: 0.2999 - val_loss: 1.3805 - val_accuracy: 0.2177\n",
      "Epoch 13/15\n",
      "26/26 [==============================] - 7s 247ms/step - loss: 1.3661 - accuracy: 0.2867 - val_loss: 1.3785 - val_accuracy: 0.2177\n",
      "Epoch 14/15\n",
      "26/26 [==============================] - 7s 246ms/step - loss: 1.3655 - accuracy: 0.2956 - val_loss: 1.3791 - val_accuracy: 0.2177\n",
      "Epoch 15/15\n",
      "26/26 [==============================] - 7s 249ms/step - loss: 1.3644 - accuracy: 0.3000 - val_loss: 1.3805 - val_accuracy: 0.2177\n"
     ]
    }
   ],
   "source": [
    "history = cnn2_model.fit(\n",
    "  image_train_ds,\n",
    "  validation_data=image_val_ds,\n",
    "  epochs = 15\n",
    ")\n"
   ]
  },
  {
   "cell_type": "code",
   "execution_count": 10,
   "id": "92739523-3329-4ab2-a135-38a3158b1348",
   "metadata": {},
   "outputs": [
    {
     "name": "stdout",
     "output_type": "stream",
     "text": [
      "dict_keys(['loss', 'accuracy', 'val_loss', 'val_accuracy'])\n"
     ]
    },
    {
     "data": {
      "image/png": "[encoded data removed]",
      "text/plain": [
       "<Figure size 432x288 with 1 Axes>"
      ]
     },
     "metadata": {
      "needs_background": "light"
     },
     "output_type": "display_data"
    },
    {
     "data": {
      "image/png": "[encoded data removed]",
      "text/plain": [
       "<Figure size 432x288 with 1 Axes>"
      ]
     },
     "metadata": {
      "needs_background": "light"
     },
     "output_type": "display_data"
    }
   ],
   "source": [
    "#list all data in history\n",
    "print(history.history.keys())\n",
    "\n",
    "# summarize history for accuracy\n",
    "plt.plot(history.history['accuracy'])\n",
    "plt.plot(history.history['val_accuracy'])\n",
    "plt.title('model accuracy')\n",
    "plt.ylabel('accuracy')\n",
    "plt.xlabel('epoch')\n",
    "plt.legend(['train', 'val'], loc='upper left')\n",
    "plt.show()\n",
    "\n",
    "# summarize history for loss\n",
    "plt.plot(history.history['loss'])\n",
    "plt.plot(history.history['val_loss'])\n",
    "plt.title('model loss')\n",
    "plt.ylabel('loss')\n",
    "plt.xlabel('epoch')\n",
    "plt.legend(['train', 'val'], loc='upper left')\n",
    "plt.show()"
   ]
  },
  {
   "cell_type": "code",
   "execution_count": 11,
   "id": "1fe74067-7276-43fa-9f32-8ec6b4924965",
   "metadata": {},
   "outputs": [
    {
     "name": "stdout",
     "output_type": "stream",
     "text": [
      "No. of layers:  9\n",
      "Model: \"sequential\"\n",
      "_________________________________________________________________\n",
      "Layer (type)                 Output Shape              Param #   \n",
      "=================================================================\n",
      "normalization (Normalization (None, 28, 28, 3)         7         \n",
      "_________________________________________________________________\n",
      "conv2d (Conv2D)              (None, 28, 28, 16)        1216      \n",
      "_________________________________________________________________\n",
      "max_pooling2d (MaxPooling2D) (None, 27, 27, 16)        0         \n",
      "_________________________________________________________________\n",
      "conv2d_1 (Conv2D)            (None, 27, 27, 32)        12832     \n",
      "_________________________________________________________________\n",
      "max_pooling2d_1 (MaxPooling2 (None, 26, 26, 32)        0         \n",
      "_________________________________________________________________\n",
      "flatten (Flatten)            (None, 21632)             0         \n",
      "_________________________________________________________________\n",
      "dense (Dense)                (None, 1024)              22152192  \n",
      "_________________________________________________________________\n",
      "dropout (Dropout)            (None, 1024)              0         \n",
      "_________________________________________________________________\n",
      "dense_1 (Dense)              (None, 4)                 4100      \n",
      "=================================================================\n",
      "Total params: 22,170,347\n",
      "Trainable params: 22,170,340\n",
      "Non-trainable params: 7\n",
      "_________________________________________________________________\n",
      "Model summary:  None\n"
     ]
    }
   ],
   "source": [
    "from tensorflow.keras import backend as K\n",
    "\n",
    "print(\"No. of layers: \", len(cnn2_model.layers))\n",
    "print(\"Model summary: \", cnn2_model.summary())"
   ]
  },
  {
   "cell_type": "code",
   "execution_count": 12,
   "id": "bc09423f-610a-4cea-8c03-8d843df90352",
   "metadata": {},
   "outputs": [
    {
     "name": "stdout",
     "output_type": "stream",
     "text": [
      "8/8 [==============================] - 1s 28ms/step - loss: 1.3678 - accuracy: 0.2857\n"
     ]
    }
   ],
   "source": [
    "#evaluate of test data\n",
    "eval = cnn2_model.evaluate(image_test_ds)"
   ]
  },
  {
   "cell_type": "code",
   "execution_count": 13,
   "id": "53ef8ac5-db7d-4ba1-a0f1-568002edd280",
   "metadata": {},
   "outputs": [
    {
     "name": "stdout",
     "output_type": "stream",
     "text": [
      "original labels : [0 0 0 0 0 0 0 0 0 0 0 0 0 0 0 0 0 0 0 0 0 1 1 1 1 1 1 1 1 1 1 1 1 1 1 1 1\n",
      " 1 1 1 1 1 1 2 2 2 2 2 2 2 2 2 2 2 2 2 2 2 2 2 2 2 2 2 2 2 2 2 2 2 2 2 3 3\n",
      " 3 3 3 3 3 3 3 3 3 3 3 3 3 3 3 3 3 3]\n",
      "predicted labels : [3 3 3 3 3 3 3 3 3 3 3 3 3 3 3 3 3 3 3 3 3 3 3 3 3 3 3 3 3 3 3 3 3 3 3 3 3\n",
      " 3 3 3 3 3 3 3 3 3 3 3 3 3 3 3 3 3 3 3 3 3 3 3 3 3 3 3 3 3 3 3 3 3 3 3 3 3\n",
      " 3 3 3 3 3 3 3 3 3 3 3 3 3 3 3 3 3 3]\n"
     ]
    }
   ],
   "source": [
    "#run on prediction dataset\n",
    "pred_labels = []\n",
    "true_labels = []\n",
    "for images_batch,labels_batch in image_pred_ds:\n",
    "    #print(len(images_batch),len(labels_batch))\n",
    "    p_labels = cnn2_model.predict(images_batch)\n",
    "    pred_labels.append(np.argmax(p_labels,axis = 1))\n",
    "    true_labels.append(np.array(labels_batch))\n",
    "\n",
    "true_labels = np.concatenate(true_labels).ravel()\n",
    "pred_labels = np.concatenate(pred_labels).ravel()\n",
    "print(\"original labels :\",true_labels)\n",
    "print(\"predicted labels :\",pred_labels)"
   ]
  },
  {
   "cell_type": "code",
   "execution_count": 14,
   "id": "4e8d1d42-987f-496c-9402-cd0435f345d2",
   "metadata": {},
   "outputs": [
    {
     "name": "stdout",
     "output_type": "stream",
     "text": [
      "confusion matrix: tf.Tensor(\n",
      "[[ 0  0  0  0]\n",
      " [ 0  0  0  0]\n",
      " [ 0  0  0  0]\n",
      " [21 22 29 20]], shape=(4, 4), dtype=int32)\n",
      "accuracy: 0.21739130434782608\n"
     ]
    }
   ],
   "source": [
    "#confusion matrix\n",
    "res = tf.math.confusion_matrix(pred_labels,true_labels)\n",
    "print(\"confusion matrix:\",res)\n",
    "\n",
    "pred_acc = np.array(tf.math.count_nonzero(pred_labels  == true_labels))/len(true_labels)\n",
    "print(\"accuracy:\",pred_acc)"
   ]
  },
  {
   "cell_type": "code",
   "execution_count": null,
   "id": "3063c663-be68-4086-91fc-3310151fd636",
   "metadata": {},
   "outputs": [],
   "source": []
  }
 ],
 "metadata": {
  "kernelspec": {
   "display_name": "Python 3 (ipykernel)",
   "language": "python",
   "name": "python3"
  },
  "language_info": {
   "codemirror_mode": {
    "name": "ipython",
    "version": 3
   },
   "file_extension": ".py",
   "mimetype": "text/x-python",
   "name": "python",
   "nbconvert_exporter": "python",
   "pygments_lexer": "ipython3",
   "version": "3.9.7"
  }
 },
 "nbformat": 4,
 "nbformat_minor": 5
}
